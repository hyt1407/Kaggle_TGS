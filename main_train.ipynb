{
 "cells": [
  {
   "cell_type": "code",
   "execution_count": 1,
   "metadata": {},
   "outputs": [],
   "source": [
    "import os\n",
    "import pandas as pd\n",
    "import numpy as np\n",
    "import cv2\n",
    "import torch\n",
    "from torchvision.models import resnet34 \n",
    "import model.TGS_UNet_ResNet34 as model\n",
    "import data.TrainDatasets as train\n",
    "import data.TestDatasets as test\n",
    "from model.FocalLoss import focalLoss\n",
    "from torch.utils.data import DataLoader\n",
    "#from visdom import Visdom\n",
    "from utils import Train\n",
    "#from utils.RLE import Encode\n",
    "import torch.nn as nn"
   ]
  },
  {
   "cell_type": "code",
   "execution_count": null,
   "metadata": {},
   "outputs": [],
   "source": []
  },
  {
   "cell_type": "code",
   "execution_count": 2,
   "metadata": {},
   "outputs": [],
   "source": [
    "device = torch.device('cuda' if torch.cuda.is_available() else 'cpu')"
   ]
  },
  {
   "cell_type": "code",
   "execution_count": 3,
   "metadata": {},
   "outputs": [],
   "source": [
    "resnet = resnet34(pretrained=True)\n",
    "unet = model.UNet(resnet)\n",
    "unet = unet.to(device)"
   ]
  },
  {
   "cell_type": "code",
   "execution_count": 4,
   "metadata": {},
   "outputs": [],
   "source": [
    "train_image_root = './input/train/images/'\n",
    "train_mask_root = './input/train/masks/'\n",
    "test_root = './input/test/'\n",
    "train_name = os.listdir(train_image_root)\n",
    "test_name = os.listdir(test_root)\n",
    "train_datasets = train.my_TrainDataset(train_image_root,train_mask_root,train_name)\n",
    "value_datasets = train.my_TrainDataset(train_image_root,train_mask_root,train_name,data_type='value')\n",
    "test_datasets = test.my_TestDatasets(test_root,test_name)\n",
    "train_loader = DataLoader(train_datasets,batch_size=16,shuffle=True)\n",
    "value_loader = DataLoader(value_datasets,batch_size=16,shuffle=False)"
   ]
  },
  {
   "cell_type": "code",
   "execution_count": 19,
   "metadata": {},
   "outputs": [],
   "source": [
    "cerition = focalLoss(device)\n",
    "fit = Train.Train(unet,train_loader,value_loader,device,cerition=cerition,num_epochs=200)"
   ]
  },
  {
   "cell_type": "code",
   "execution_count": 20,
   "metadata": {},
   "outputs": [],
   "source": [
    "fit = Train.Train(unet,train_loader,value_loader,device,cerition=cerition,num_epochs=200)"
   ]
  },
  {
   "cell_type": "code",
   "execution_count": null,
   "metadata": {},
   "outputs": [],
   "source": [
    "fit()"
   ]
  },
  {
   "cell_type": "code",
   "execution_count": null,
   "metadata": {},
   "outputs": [],
   "source": []
  }
 ],
 "metadata": {
  "kernelspec": {
   "display_name": "Python 3",
   "language": "python",
   "name": "python3"
  },
  "language_info": {
   "codemirror_mode": {
    "name": "ipython",
    "version": 3
   },
   "file_extension": ".py",
   "mimetype": "text/x-python",
   "name": "python",
   "nbconvert_exporter": "python",
   "pygments_lexer": "ipython3",
   "version": "3.7.3"
  }
 },
 "nbformat": 4,
 "nbformat_minor": 2
}
