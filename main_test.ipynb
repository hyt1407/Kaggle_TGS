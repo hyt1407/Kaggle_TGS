{
 "cells": [
  {
   "cell_type": "code",
   "execution_count": 1,
   "metadata": {},
   "outputs": [],
   "source": [
    "import torch\n",
    "from model.TGS_UNet_ResNet34 import *\n",
    "from utils.RLE import Encode\n",
    "import cv2\n",
    "import torch.utils.data as data\n",
    "import data.TestDatasets as TestDatasets\n",
    "import os\n",
    "import pandas as pd\n",
    "import numpy as np\n",
    "import torchvision.models as model"
   ]
  },
  {
   "cell_type": "code",
   "execution_count": 2,
   "metadata": {},
   "outputs": [],
   "source": [
    "resnet = model.resnet34(pretrained=True)\n",
    "unet_100 = UNet(resnet)"
   ]
  },
  {
   "cell_type": "code",
   "execution_count": 3,
   "metadata": {},
   "outputs": [],
   "source": [
    "unet_100.load_state_dict(torch.load('model_unet_params.pkl'))"
   ]
  },
  {
   "cell_type": "code",
   "execution_count": 4,
   "metadata": {},
   "outputs": [],
   "source": [
    "device = torch.device('cuda' if torch.cuda.is_available() else 'cpu')"
   ]
  },
  {
   "cell_type": "code",
   "execution_count": 5,
   "metadata": {},
   "outputs": [],
   "source": [
    "test_image_root = './input/test/'\n",
    "test_image_name = os.listdir(test_image_root)\n",
    "test_dataset = TestDatasets.my_TestDatasets(test_image_root,test_image_name)\n",
    "test_loader = data.DataLoader(test_dataset,batch_size=16)\n",
    "unet_100 = unet_100.to(device)"
   ]
  },
  {
   "cell_type": "code",
   "execution_count": 6,
   "metadata": {},
   "outputs": [],
   "source": [
    "submission = pd.DataFrame(columns=('id','rle_mask'))"
   ]
  },
  {
   "cell_type": "code",
   "execution_count": 7,
   "metadata": {},
   "outputs": [],
   "source": [
    "def rleEncode(img):\n",
    "    img = cv2.resize(img,(101,101),interpolation=cv2.INTER_CUBIC)\n",
    "    img = np.int32(img>0)\n",
    "    pixels = img.flatten()\n",
    "    pixels = np.concatenate([[0], pixels, [0]])\n",
    "    runs = np.where(pixels[1:] != pixels[:-1])[0] + 1\n",
    "    runs[1::2] -= runs[::2]\n",
    "    return ' '.join(str(x) for x in runs)"
   ]
  },
  {
   "cell_type": "code",
   "execution_count": 8,
   "metadata": {},
   "outputs": [],
   "source": [
    "unet_100.eval()\n",
    "with torch.no_grad():\n",
    "    for i,(img,name) in enumerate(test_loader):\n",
    "        img = img.to(device)\n",
    "        outputs = unet_100(img)\n",
    "        del img\n",
    "        outputs = (outputs>0).float()\n",
    "        outputs=outputs.cpu()\n",
    "        outputs = outputs.numpy()\n",
    "        for j,(out,img_name) in enumerate(zip(outputs,name)):\n",
    "            rle = rleEncode(out.transpose())\n",
    "            img_name = img_name.split('.')[0]\n",
    "            submission.loc[i*16+j]={'id':img_name,'rle_mask':rle}"
   ]
  },
  {
   "cell_type": "code",
   "execution_count": 9,
   "metadata": {},
   "outputs": [
    {
     "data": {
      "text/html": [
       "<div>\n",
       "<style scoped>\n",
       "    .dataframe tbody tr th:only-of-type {\n",
       "        vertical-align: middle;\n",
       "    }\n",
       "\n",
       "    .dataframe tbody tr th {\n",
       "        vertical-align: top;\n",
       "    }\n",
       "\n",
       "    .dataframe thead th {\n",
       "        text-align: right;\n",
       "    }\n",
       "</style>\n",
       "<table border=\"1\" class=\"dataframe\">\n",
       "  <thead>\n",
       "    <tr style=\"text-align: right;\">\n",
       "      <th></th>\n",
       "      <th>id</th>\n",
       "      <th>rle_mask</th>\n",
       "    </tr>\n",
       "  </thead>\n",
       "  <tbody>\n",
       "    <tr>\n",
       "      <th>0</th>\n",
       "      <td>0005bb9630</td>\n",
       "      <td>2 15 19 1 21 97 119 1 121 83 205 8 214 2 218 2...</td>\n",
       "    </tr>\n",
       "    <tr>\n",
       "      <th>1</th>\n",
       "      <td>000a68e46c</td>\n",
       "      <td></td>\n",
       "    </tr>\n",
       "    <tr>\n",
       "      <th>2</th>\n",
       "      <td>000c8dfb2a</td>\n",
       "      <td></td>\n",
       "    </tr>\n",
       "    <tr>\n",
       "      <th>3</th>\n",
       "      <td>000d0a5f6c</td>\n",
       "      <td></td>\n",
       "    </tr>\n",
       "    <tr>\n",
       "      <th>4</th>\n",
       "      <td>001ef8fc87</td>\n",
       "      <td>1 7361 7363 2 7366 4 7374 82 7463 1 7466 1 747...</td>\n",
       "    </tr>\n",
       "  </tbody>\n",
       "</table>\n",
       "</div>"
      ],
      "text/plain": [
       "           id                                           rle_mask\n",
       "0  0005bb9630  2 15 19 1 21 97 119 1 121 83 205 8 214 2 218 2...\n",
       "1  000a68e46c                                                   \n",
       "2  000c8dfb2a                                                   \n",
       "3  000d0a5f6c                                                   \n",
       "4  001ef8fc87  1 7361 7363 2 7366 4 7374 82 7463 1 7466 1 747..."
      ]
     },
     "execution_count": 9,
     "metadata": {},
     "output_type": "execute_result"
    }
   ],
   "source": [
    "submission.head()"
   ]
  },
  {
   "cell_type": "code",
   "execution_count": 10,
   "metadata": {},
   "outputs": [],
   "source": [
    "submission.to_csv('submission.csv',index=False)"
   ]
  },
  {
   "cell_type": "code",
   "execution_count": 11,
   "metadata": {},
   "outputs": [
    {
     "data": {
      "text/plain": [
       "18000"
      ]
     },
     "execution_count": 11,
     "metadata": {},
     "output_type": "execute_result"
    }
   ],
   "source": [
    "len(submission)"
   ]
  },
  {
   "cell_type": "code",
   "execution_count": null,
   "metadata": {},
   "outputs": [],
   "source": []
  }
 ],
 "metadata": {
  "kernelspec": {
   "display_name": "Python 3",
   "language": "python",
   "name": "python3"
  },
  "language_info": {
   "codemirror_mode": {
    "name": "ipython",
    "version": 3
   },
   "file_extension": ".py",
   "mimetype": "text/x-python",
   "name": "python",
   "nbconvert_exporter": "python",
   "pygments_lexer": "ipython3",
   "version": "3.7.3"
  }
 },
 "nbformat": 4,
 "nbformat_minor": 2
}
